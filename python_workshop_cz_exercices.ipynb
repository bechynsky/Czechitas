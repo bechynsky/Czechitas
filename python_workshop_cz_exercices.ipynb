{
 "cells": [
  {
   "cell_type": "code",
   "execution_count": null,
   "metadata": {
    "collapsed": true
   },
   "outputs": [],
   "source": [
    "# Cvičení\n",
    "# Přídejte více parametrů do funkce .format()"
   ]
  },
  {
   "cell_type": "code",
   "execution_count": 5,
   "metadata": {
    "collapsed": false
   },
   "outputs": [
    {
     "name": "stdout",
     "output_type": "stream",
     "text": [
      "Jmenuji se Nasťa, mám ráda číslo 17. Můj pes se jmenuje Miky.\n"
     ]
    }
   ],
   "source": [
    "print(\"Jmenuji se {0}, mám ráda číslo {1}. Můj pes se jmenuje {2}.\".format(\"Nasťa\", 17, \"Miky\"))"
   ]
  },
  {
   "cell_type": "code",
   "execution_count": 21,
   "metadata": {
    "collapsed": true
   },
   "outputs": [],
   "source": [
    "# Cvičení\n",
    "# Jaké jsou hodnoty a, b, c, d?\n",
    "a = 3\n",
    "b = a * 2\n",
    "c = 5\n",
    "a = 10\n",
    "d = a + b + c"
   ]
  },
  {
   "cell_type": "code",
   "execution_count": 22,
   "metadata": {
    "collapsed": false
   },
   "outputs": [
    {
     "name": "stdout",
     "output_type": "stream",
     "text": [
      "a je 10\n",
      "b je 6\n",
      "c je 5\n",
      "d je 21\n"
     ]
    }
   ],
   "source": [
    "print(\"a je\", a)\n",
    "print(\"b je\", b)\n",
    "print(\"c je\", c)\n",
    "print(\"d je\", d)"
   ]
  },
  {
   "cell_type": "code",
   "execution_count": null,
   "metadata": {
    "collapsed": true
   },
   "outputs": [],
   "source": [
    "# Cvičení\n",
    "# Spočítejte počet písmen ř v jazykolamu \"Tři sta třicet tři stříbrných stříkaček stříkalo přes tři sta třicet tři stříbrných střech.\""
   ]
  },
  {
   "cell_type": "code",
   "execution_count": 8,
   "metadata": {
    "collapsed": false
   },
   "outputs": [
    {
     "data": {
      "text/plain": [
       "12"
      ]
     },
     "execution_count": 8,
     "metadata": {},
     "output_type": "execute_result"
    }
   ],
   "source": [
    "tongue_twister = \"Tři sta třicet tři stříbrných stříkaček stříkalo přes tři sta třicet tři stříbrných střech.\"\n",
    "tongue_twister.count(\"ř\")"
   ]
  },
  {
   "cell_type": "code",
   "execution_count": null,
   "metadata": {
    "collapsed": true
   },
   "outputs": [],
   "source": [
    "# Cvičení\n",
    "# Vyhledejte funkci, pomocí které ve slově \"czechitas\" napišete velká písmena."
   ]
  },
  {
   "cell_type": "code",
   "execution_count": 10,
   "metadata": {
    "collapsed": false
   },
   "outputs": [
    {
     "data": {
      "text/plain": [
       "'CZECHITAS'"
      ]
     },
     "execution_count": 10,
     "metadata": {},
     "output_type": "execute_result"
    }
   ],
   "source": [
    "team = \"czechitas\"\n",
    "team.upper()"
   ]
  },
  {
   "cell_type": "code",
   "execution_count": null,
   "metadata": {
    "collapsed": true
   },
   "outputs": [],
   "source": [
    "# Cvičení\n",
    "# Jak lze zkontrolovat, zda řetezec se skládá jenom z číslovek?"
   ]
  },
  {
   "cell_type": "code",
   "execution_count": 18,
   "metadata": {
    "collapsed": false
   },
   "outputs": [
    {
     "data": {
      "text/plain": [
       "False"
      ]
     },
     "execution_count": 18,
     "metadata": {},
     "output_type": "execute_result"
    }
   ],
   "source": [
    "string_with_numbers = \"jsem řetězec s číslem 5\"\n",
    "string_with_numbers.isdigit()"
   ]
  },
  {
   "cell_type": "code",
   "execution_count": null,
   "metadata": {
    "collapsed": true
   },
   "outputs": [],
   "source": [
    "# Cvičení\n",
    "# Ze seznamu [\"Yoshi\"] vytvořte seznam obsahující slovo \"Yoshi\" 5 krát."
   ]
  },
  {
   "cell_type": "code",
   "execution_count": 15,
   "metadata": {
    "collapsed": false
   },
   "outputs": [
    {
     "data": {
      "text/plain": [
       "['Yoshi', 'Yoshi', 'Yoshi', 'Yoshi', 'Yoshi']"
      ]
     },
     "execution_count": 15,
     "metadata": {},
     "output_type": "execute_result"
    }
   ],
   "source": [
    "[\"Yoshi\"] * 5"
   ]
  },
  {
   "cell_type": "code",
   "execution_count": 12,
   "metadata": {
    "collapsed": true
   },
   "outputs": [],
   "source": [
    "# Cvičení\n",
    "# Zobrazte první a poslední prvek seznamu.\n",
    "colors_list = [\"červená\", \"oranžová\", \"žlutá\", \"zelená\", \"modrá\"]"
   ]
  },
  {
   "cell_type": "code",
   "execution_count": null,
   "metadata": {
    "collapsed": true
   },
   "outputs": [],
   "source": [
    "print(\"první barva je \", colors_list[0])\n",
    "print(\"poslední barva je \", colors_list[-1])"
   ]
  },
  {
   "cell_type": "code",
   "execution_count": null,
   "metadata": {
    "collapsed": true
   },
   "outputs": [],
   "source": [
    "# Cvičení\n",
    "# Zobrazte všechny prvky seznamu colors kromě posledního."
   ]
  },
  {
   "cell_type": "code",
   "execution_count": 14,
   "metadata": {
    "collapsed": false
   },
   "outputs": [
    {
     "data": {
      "text/plain": [
       "['červená', 'oranžová', 'žlutá', 'zelená']"
      ]
     },
     "execution_count": 14,
     "metadata": {},
     "output_type": "execute_result"
    }
   ],
   "source": [
    "colors_list[0:-1]"
   ]
  }
 ],
 "metadata": {
  "kernelspec": {
   "display_name": "Python 3",
   "language": "python",
   "name": "python3"
  },
  "language_info": {
   "codemirror_mode": {
    "name": "ipython",
    "version": 3
   },
   "file_extension": ".py",
   "mimetype": "text/x-python",
   "name": "python",
   "nbconvert_exporter": "python",
   "pygments_lexer": "ipython3",
   "version": "3.4.3"
  }
 },
 "nbformat": 4,
 "nbformat_minor": 0
}
